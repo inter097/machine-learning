{
 "cells": [
  {
   "cell_type": "code",
   "execution_count": 5,
   "id": "705a70d9",
   "metadata": {},
   "outputs": [],
   "source": [
    "from sklearn.model_selection import train_test_split\n",
    "from sklearn.preprocessing import StandardScaler\n",
    "import pandas as pd\n",
    "import matplotlib.pyplot as plt\n",
    "import seaborn as sns\n",
    "\n",
    "pd.set_option('display.max_rows', None)  # Mostrar todas las filas\n",
    "pd.set_option('display.max_columns', None)  # Mostrar todas las columnas\n",
    "pd.set_option('display.expand_frame_repr', False)  # Evitar cortar en varias líneas\n",
    "pd.set_option('display.max_colwidth', None)  # Evitar cortar el contenido de las celdas\n",
    "\n",
    "df = pd.read_csv('dataset_final.csv')"
   ]
  },
  {
   "cell_type": "code",
   "execution_count": 6,
   "id": "6caf1768",
   "metadata": {},
   "outputs": [
    {
     "name": "stdout",
     "output_type": "stream",
     "text": [
      "           Age  CK-MB_log  Troponin_log\n",
      "881  -0.159143   0.938751     -0.815166\n",
      "723  -1.467989   0.096629     -1.053250\n",
      "889   0.640708  -0.677957      1.316036\n",
      "1004  1.149703  -0.968734     -0.273049\n",
      "761  -0.086429  -0.804186      0.552234\n",
      "881     1\n",
      "723     0\n",
      "889     1\n",
      "1004    1\n",
      "761     1\n",
      "Name: Result, dtype: int64\n"
     ]
    }
   ],
   "source": [
    "# 1. Columnas\n",
    "columnas_numericas = ['Age', 'CK-MB_log', 'Troponin_log']\n",
    "columna_objetivo = 'Result'\n",
    "\n",
    "# 2. Separar X (predictoras) e y (objetivo)\n",
    "X = df[columnas_numericas]\n",
    "y = df[columna_objetivo]\n",
    "\n",
    "# 3. Separar en train y test antes de escalar\n",
    "X_train, X_test, y_train, y_test = train_test_split(\n",
    "    X, y,\n",
    "    test_size=0.2,\n",
    "    random_state=42,\n",
    "    stratify=y\n",
    ")\n",
    "\n",
    "# 4. Escalar solo las columnas numéricas del train\n",
    "scaler = StandardScaler()\n",
    "X_train_num_scaled = scaler.fit_transform(X_train[columnas_numericas])\n",
    "X_test_num_scaled = scaler.transform(X_test[columnas_numericas])\n",
    "\n",
    "# 5. Convertir a DataFrames con nombres de columnas\n",
    "X_train_final = pd.DataFrame(X_train_num_scaled, columns=columnas_numericas, index=X_train.index)\n",
    "X_test_final = pd.DataFrame(X_test_num_scaled, columns=columnas_numericas, index=X_test.index)\n",
    "\n",
    "# Verificación opcional\n",
    "print(X_train_final.head())\n",
    "print(y_train.head())"
   ]
  },
  {
   "cell_type": "code",
   "execution_count": 7,
   "id": "e452d059",
   "metadata": {},
   "outputs": [
    {
     "name": "stdout",
     "output_type": "stream",
     "text": [
      "KNN:\n",
      "              precision    recall  f1-score   support\n",
      "\n",
      "           0       0.91      0.96      0.93       102\n",
      "           1       0.97      0.94      0.96       162\n",
      "\n",
      "    accuracy                           0.95       264\n",
      "   macro avg       0.94      0.95      0.94       264\n",
      "weighted avg       0.95      0.95      0.95       264\n",
      "\n",
      "Accuracy: 0.946969696969697\n"
     ]
    },
    {
     "data": {
      "image/png": "[encoded data removed]",
      "text/plain": [
       "<Figure size 600x500 with 2 Axes>"
      ]
     },
     "metadata": {},
     "output_type": "display_data"
    }
   ],
   "source": [
    "from sklearn.neighbors import KNeighborsClassifier\n",
    "from sklearn.metrics import accuracy_score, confusion_matrix, classification_report\n",
    "\n",
    "# 1. Crear el modelo (k=5 por defecto, pero se puede ajustar)\n",
    "modelo_knn = KNeighborsClassifier(n_neighbors=5)\n",
    "\n",
    "# 2. Entrenar\n",
    "modelo_knn.fit(X_train_final, y_train)\n",
    "\n",
    "# 3. Predecir\n",
    "y_pred_knn = modelo_knn.predict(X_test_final)\n",
    "\n",
    "# 4. Evaluar\n",
    "print(\"KNN:\")\n",
    "print(classification_report(y_test, y_pred_knn)) # Evaluación\n",
    "accuracy = accuracy_score(y_test, y_pred_knn)\n",
    "print(\"Accuracy:\", accuracy)\n",
    "\n",
    "cm_knn = confusion_matrix(y_test, y_pred_knn)\n",
    "plt.figure(figsize=(6, 5))\n",
    "sns.heatmap(cm_knn, annot=True, fmt='g', cmap='Blues', xticklabels=[\"Negativo\", \"Positivo\"], yticklabels=[\"Negativo\", \"Positivo\"])\n",
    "plt.title(\"Matriz de Confusión KNN\")\n",
    "plt.xlabel(\"Predicción\")\n",
    "plt.ylabel(\"Real\")\n",
    "plt.show()"
   ]
  },
  {
   "cell_type": "markdown",
   "id": "3f54fb34",
   "metadata": {},
   "source": [
    "**Validación Cruzada**"
   ]
  },
  {
   "cell_type": "code",
   "execution_count": 19,
   "id": "de2a91b6",
   "metadata": {},
   "outputs": [
    {
     "name": "stdout",
     "output_type": "stream",
     "text": [
      "Accuracy: 0.946969696969697\n",
      "Accuracy (Cross-Val): 0.918472596585804\n"
     ]
    }
   ],
   "source": [
    "from sklearn.model_selection import cross_val_score\n",
    "\n",
    "scoring = ['accuracy', 'precision', 'recall', 'f1', 'roc_auc']\n",
    "\n",
    "# Evaluación con cross-validation (k=10)\n",
    "scores = cross_val_score(modelo_knn, X_train, y_train, cv=10, scoring=\"accuracy\")\n",
    "print('Accuracy:', accuracy)\n",
    "print(\"Accuracy (Cross-Val):\", scores.mean())"
   ]
  },
  {
   "cell_type": "markdown",
   "id": "c3a535b1",
   "metadata": {},
   "source": [
    "**Exportar modelo**"
   ]
  },
  {
   "cell_type": "code",
   "execution_count": 20,
   "id": "d72bfc28",
   "metadata": {},
   "outputs": [
    {
     "data": {
      "text/plain": [
       "['modelos\\\\modelo_knn.pkl']"
      ]
     },
     "execution_count": 20,
     "metadata": {},
     "output_type": "execute_result"
    }
   ],
   "source": [
    "import joblib\n",
    "import os\n",
    "\n",
    "ruta_modelo = os.path.join('modelos', 'modelo_knn.pkl')\n",
    "# guardar el modelo\n",
    "joblib.dump(modelo_knn, ruta_modelo)"
   ]
  }
 ],
 "metadata": {
  "kernelspec": {
   "display_name": "Python 3",
   "language": "python",
   "name": "python3"
  },
  "language_info": {
   "codemirror_mode": {
    "name": "ipython",
    "version": 3
   },
   "file_extension": ".py",
   "mimetype": "text/x-python",
   "name": "python",
   "nbconvert_exporter": "python",
   "pygments_lexer": "ipython3",
   "version": "3.12.6"
  }
 },
 "nbformat": 4,
 "nbformat_minor": 5
}
