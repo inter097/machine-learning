{
 "cells": [
  {
   "cell_type": "code",
   "execution_count": 8,
   "id": "705a70d9",
   "metadata": {},
   "outputs": [],
   "source": [
    "from sklearn.model_selection import train_test_split\n",
    "from sklearn.preprocessing import StandardScaler\n",
    "import pandas as pd\n",
    "import matplotlib.pyplot as plt\n",
    "import seaborn as sns\n",
    "\n",
    "pd.set_option('display.max_rows', None)  # Mostrar todas las filas\n",
    "pd.set_option('display.max_columns', None)  # Mostrar todas las columnas\n",
    "pd.set_option('display.expand_frame_repr', False)  # Evitar cortar en varias líneas\n",
    "pd.set_option('display.max_colwidth', None)  # Evitar cortar el contenido de las celdas\n",
    "\n",
    "df = pd.read_csv('dataset_final.csv')"
   ]
  },
  {
   "cell_type": "code",
   "execution_count": 9,
   "id": "6caf1768",
   "metadata": {},
   "outputs": [
    {
     "name": "stdout",
     "output_type": "stream",
     "text": [
      "           Age  CK-MB_log  Troponin_log\n",
      "881  -0.159143   0.938751     -0.815166\n",
      "723  -1.467989   0.096629     -1.053250\n",
      "889   0.640708  -0.677957      1.316036\n",
      "1004  1.149703  -0.968734     -0.273049\n",
      "761  -0.086429  -0.804186      0.552234\n",
      "881     1\n",
      "723     0\n",
      "889     1\n",
      "1004    1\n",
      "761     1\n",
      "Name: Result, dtype: int64\n"
     ]
    }
   ],
   "source": [
    "# 1. Columnas\n",
    "columnas_numericas = ['Age', 'CK-MB_log', 'Troponin_log']\n",
    "columna_objetivo = 'Result'\n",
    "\n",
    "# 2. Separar X (predictoras) e y (objetivo)\n",
    "X = df[columnas_numericas]\n",
    "y = df[columna_objetivo]\n",
    "\n",
    "# 3. Separar en train y test antes de escalar\n",
    "X_train, X_test, y_train, y_test = train_test_split(\n",
    "    X, y,\n",
    "    test_size=0.2,\n",
    "    random_state=42,\n",
    "    stratify=y\n",
    ")\n",
    "\n",
    "# 4. Escalar solo las columnas numéricas del train\n",
    "scaler = StandardScaler()\n",
    "X_train_num_scaled = scaler.fit_transform(X_train[columnas_numericas])\n",
    "X_test_num_scaled = scaler.transform(X_test[columnas_numericas])\n",
    "\n",
    "# 5. Convertir a DataFrames con nombres de columnas\n",
    "X_train_final = pd.DataFrame(X_train_num_scaled, columns=columnas_numericas, index=X_train.index)\n",
    "X_test_final = pd.DataFrame(X_test_num_scaled, columns=columnas_numericas, index=X_test.index)\n",
    "\n",
    "# Verificación opcional\n",
    "print(X_train_final.head())\n",
    "print(y_train.head())"
   ]
  },
  {
   "cell_type": "code",
   "execution_count": 10,
   "id": "e452d059",
   "metadata": {},
   "outputs": [
    {
     "name": "stdout",
     "output_type": "stream",
     "text": [
      "Naive Bayes:\n",
      "              precision    recall  f1-score   support\n",
      "\n",
      "           0       0.89      0.95      0.92       102\n",
      "           1       0.97      0.93      0.95       162\n",
      "\n",
      "    accuracy                           0.94       264\n",
      "   macro avg       0.93      0.94      0.93       264\n",
      "weighted avg       0.94      0.94      0.94       264\n",
      "\n",
      "Accuracy: 0.9356060606060606\n"
     ]
    },
    {
     "data": {
      "image/png": "[encoded data removed]",
      "text/plain": [
       "<Figure size 600x500 with 2 Axes>"
      ]
     },
     "metadata": {},
     "output_type": "display_data"
    }
   ],
   "source": [
    "from sklearn.naive_bayes import GaussianNB\n",
    "from sklearn.metrics import accuracy_score, confusion_matrix, classification_report\n",
    "\n",
    "# 1. Crear el modelo\n",
    "modelo_nb = GaussianNB()\n",
    "\n",
    "# 2. Entrenar\n",
    "modelo_nb.fit(X_train_final, y_train)\n",
    "\n",
    "# 3. Predecir en el test\n",
    "y_pred_nb = modelo_nb.predict(X_test_final)\n",
    "\n",
    "# 4. Evaluar el modelo\n",
    "print(\"Naive Bayes:\")\n",
    "print(classification_report(y_test, y_pred_nb)) # Evaluación\n",
    "accuracy = accuracy_score(y_test, y_pred_nb)\n",
    "print(\"Accuracy:\", accuracy)\n",
    "\n",
    "cm_nb = confusion_matrix(y_test, y_pred_nb)\n",
    "plt.figure(figsize=(6, 5))\n",
    "sns.heatmap(cm_nb, annot=True, fmt='g', cmap='Blues', xticklabels=[\"Negativo\", \"Positivo\"], yticklabels=[\"Negativo\", \"Positivo\"])\n",
    "plt.title(\"Matriz de Confusión Naive Bayes\")\n",
    "plt.xlabel(\"Predicción\")\n",
    "plt.ylabel(\"Real\")\n",
    "plt.show()"
   ]
  },
  {
   "cell_type": "markdown",
   "id": "513676b1",
   "metadata": {},
   "source": [
    "**Validación cruzada**"
   ]
  },
  {
   "cell_type": "code",
   "execution_count": 14,
   "id": "43b74db0",
   "metadata": {},
   "outputs": [
    {
     "name": "stdout",
     "output_type": "stream",
     "text": [
      "Accuracy: 0.9356060606060606\n",
      "Accuracy (Cross-Val): 0.9337017070979335\n"
     ]
    }
   ],
   "source": [
    "from sklearn.model_selection import cross_val_score\n",
    "\n",
    "scoring = ['accuracy', 'precision', 'recall', 'f1', 'roc_auc']\n",
    "\n",
    "# Evaluación con cross-validation (k=10)\n",
    "scores = cross_val_score(modelo_nb, X_train, y_train, cv=10, scoring=\"accuracy\")\n",
    "print('Accuracy:', accuracy)\n",
    "print(\"Accuracy (Cross-Val):\", scores.mean())"
   ]
  },
  {
   "cell_type": "markdown",
   "id": "503310c3",
   "metadata": {},
   "source": [
    "**Exportar modelo**"
   ]
  },
  {
   "cell_type": "code",
   "execution_count": 16,
   "id": "30731549",
   "metadata": {},
   "outputs": [
    {
     "data": {
      "text/plain": [
       "['modelos\\\\modelo_nb.pkl']"
      ]
     },
     "execution_count": 16,
     "metadata": {},
     "output_type": "execute_result"
    }
   ],
   "source": [
    "import joblib\n",
    "import os\n",
    "\n",
    "ruta_modelo = os.path.join('modelos', 'modelo_nb.pkl')\n",
    "# guardar el modelo\n",
    "joblib.dump(modelo_nb, ruta_modelo)"
   ]
  }
 ],
 "metadata": {
  "kernelspec": {
   "display_name": "Python 3",
   "language": "python",
   "name": "python3"
  },
  "language_info": {
   "codemirror_mode": {
    "name": "ipython",
    "version": 3
   },
   "file_extension": ".py",
   "mimetype": "text/x-python",
   "name": "python",
   "nbconvert_exporter": "python",
   "pygments_lexer": "ipython3",
   "version": "3.12.6"
  }
 },
 "nbformat": 4,
 "nbformat_minor": 5
}
